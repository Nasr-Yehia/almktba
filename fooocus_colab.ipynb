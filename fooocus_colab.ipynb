{
  "cells": [
    {
      "cell_type": "markdown",
      "source": [
        "Prepare"
      ],
      "metadata": {
        "id": "UU4VQX2uMTJh"
      }
    },
    {
      "cell_type": "code",
      "execution_count": null,
      "metadata": {
        "id": "VjYy0F2gZIPR"
      },
      "outputs": [],
      "source": [
        "!pip install pygit2==1.15.1\n",
        "%cd /content\n",
        "!git clone https://github.com/mashb1t/Fooocus.git\n",
        "%cd /content/Fooocus"
      ]
    },
    {
      "cell_type": "markdown",
      "source": [
        "Run"
      ],
      "metadata": {
        "id": "NBIrweiOMYFl"
      }
    },
    {
      "cell_type": "code",
      "source": [
        "!wget -c https://civitai.com/api/download/models/308455?token=60e667166bda83f04f00acb0697c6d0e -O ./models/checkpoints/WildCardX-XL.safetensors &"
      ],
      "metadata": {
        "id": "pgCOfg65q7Iy"
      },
      "execution_count": null,
      "outputs": []
    },
    {
      "cell_type": "code",
      "source": [
        "!wget -c https://civitai.com/api/download/models/706528?token=60e667166bda83f04f00acb0697c6d0e -O ./models/loras/Flux-Realism-LoRA.safetensors"
      ],
      "metadata": {
        "id": "nBh20dnUw3Db"
      },
      "execution_count": null,
      "outputs": []
    },
    {
      "cell_type": "code",
      "source": [
        "!python entry_with_update.py --share --always-high-vram --preset REALISTIC --theme='dark'"
      ],
      "metadata": {
        "id": "gPZEYpsfMDxQ"
      },
      "execution_count": null,
      "outputs": []
    }
  ],
  "metadata": {
    "accelerator": "GPU",
    "colab": {
      "gpuType": "T4",
      "provenance": []
    },
    "kernelspec": {
      "display_name": "Python 3",
      "name": "python3"
    },
    "language_info": {
      "name": "python"
    }
  },
  "nbformat": 4,
  "nbformat_minor": 0
}